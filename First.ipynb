{
 "cells": [
  {
   "cell_type": "markdown",
   "metadata": {},
   "source": [
    "IPython = Interactive Python, интерактивная оболочка для языка программирования Python.\n",
    "Jupyter Notebook = веб-оболочка для IPython.\n",
    "Shift+Enter горячая клавиша запуск ячейки"
   ]
  },
  {
   "cell_type": "markdown",
   "metadata": {},
   "source": [
    "**Арифметика**"
   ]
  },
  {
   "cell_type": "code",
   "execution_count": 1,
   "metadata": {
    "scrolled": true
   },
   "outputs": [
    {
     "data": {
      "text/plain": [
       "26"
      ]
     },
     "execution_count": 1,
     "metadata": {},
     "output_type": "execute_result"
    }
   ],
   "source": [
    "(2+2*2)*5 - 4 # скобки сложение умножение вычитание\n"
   ]
  },
  {
   "cell_type": "code",
   "execution_count": 2,
   "metadata": {},
   "outputs": [
    {
     "data": {
      "text/plain": [
       "-42"
      ]
     },
     "execution_count": 2,
     "metadata": {},
     "output_type": "execute_result"
    }
   ],
   "source": [
    "-42 # унарный минус"
   ]
  },
  {
   "cell_type": "code",
   "execution_count": 3,
   "metadata": {},
   "outputs": [
    {
     "name": "stdout",
     "output_type": "stream",
     "text": [
      "8\n",
      "8\n",
      "2\n"
     ]
    }
   ],
   "source": [
    "print (40//5) # целочисленное деление\n",
    "print (42//5)\n",
    "print (42%8) # остаток"
   ]
  },
  {
   "cell_type": "code",
   "execution_count": 4,
   "metadata": {},
   "outputs": [
    {
     "name": "stdout",
     "output_type": "stream",
     "text": [
      "64\n",
      "18064773765607550801425251468864907833685590016\n"
     ]
    }
   ],
   "source": [
    "print (4**3) # возведение в степень\n",
    "print (2014**14) # поддержка длинных целочисленных типов"
   ]
  },
  {
   "cell_type": "code",
   "execution_count": 5,
   "metadata": {},
   "outputs": [
    {
     "name": "stdout",
     "output_type": "stream",
     "text": [
      "0.35\n",
      "2.5\n",
      "3.0\n"
     ]
    }
   ],
   "source": [
    "print ((0.5 +0.5) * 0.7 - 0.35) # всё то же самое с вещественными числами\n",
    "print (5/2) # вещественное деление\n",
    "print (9**0.5) # степень"
   ]
  },
  {
   "cell_type": "code",
   "execution_count": 6,
   "metadata": {},
   "outputs": [
    {
     "data": {
      "text/plain": [
       "0.8999999999999999"
      ]
     },
     "execution_count": 6,
     "metadata": {},
     "output_type": "execute_result"
    }
   ],
   "source": [
    "0.3+0.3+0.3 # опа подстава подстава бу избегаем вещественных вычислений"
   ]
  },
  {
   "cell_type": "code",
   "execution_count": 7,
   "metadata": {},
   "outputs": [
    {
     "name": "stdout",
     "output_type": "stream",
     "text": [
      "0.03\n",
      "107000.0\n"
     ]
    }
   ],
   "source": [
    "print (3e-2)\n",
    "print (107e3)"
   ]
  },
  {
   "cell_type": "markdown",
   "metadata": {},
   "source": [
    "**Типы**\n",
    "\n",
    "int, float, bool, str - неизменяемые типы. То есть вместо изменений создается новый объект"
   ]
  },
  {
   "cell_type": "code",
   "execution_count": 8,
   "metadata": {},
   "outputs": [
    {
     "name": "stdout",
     "output_type": "stream",
     "text": [
      "-1\n",
      "<class 'int'>\n",
      "<class 'float'>\n",
      "<class 'str'>\n"
     ]
    }
   ],
   "source": [
    "print(int(-1.6)) # отбрасываем дробную часть\n",
    "print(type(7))\n",
    "print(type(7.0))\n",
    "print(type(\"hi\"))"
   ]
  },
  {
   "cell_type": "code",
   "execution_count": 9,
   "metadata": {},
   "outputs": [
    {
     "name": "stdout",
     "output_type": "stream",
     "text": [
      "<class 'str'>\n"
     ]
    }
   ],
   "source": [
    "a = 2 # динамическая типизация\n",
    "a = 'kus'\n",
    "print(type(a))"
   ]
  },
  {
   "cell_type": "code",
   "execution_count": 10,
   "metadata": {},
   "outputs": [
    {
     "name": "stdout",
     "output_type": "stream",
     "text": [
      "введите число5\n",
      "<class 'str'>\n"
     ]
    }
   ],
   "source": [
    "a = input('введите число') # читает СТРОКУ\n",
    "print(type(a))"
   ]
  },
  {
   "cell_type": "code",
   "execution_count": 11,
   "metadata": {},
   "outputs": [
    {
     "name": "stdout",
     "output_type": "stream",
     "text": [
      "5\n",
      "<class 'int'>\n"
     ]
    }
   ],
   "source": [
    "a = int(input())\n",
    "print(type(a))"
   ]
  },
  {
   "cell_type": "code",
   "execution_count": 12,
   "metadata": {},
   "outputs": [
    {
     "name": "stdout",
     "output_type": "stream",
     "text": [
      "3 lol i love you\n"
     ]
    }
   ],
   "source": [
    "a = 3\n",
    "s = 'lol'\n",
    "print (a, s, 'i love you') # одно за другим через пробел"
   ]
  },
  {
   "cell_type": "markdown",
   "metadata": {},
   "source": [
    "Строчку можно задать одинарными и двойными кавычами. Multiple lines string тремя символами в начале и конце"
   ]
  },
  {
   "cell_type": "code",
   "execution_count": 13,
   "metadata": {},
   "outputs": [
    {
     "name": "stdout",
     "output_type": "stream",
     "text": [
      "long\n",
      "str\n",
      "too\n"
     ]
    }
   ],
   "source": [
    "a ='str'\n",
    "\n",
    "a = \"str\"\n",
    "\n",
    "a ='''long\n",
    "str'''\n",
    "\n",
    "a = \"\"\"long\n",
    "str\n",
    "too\"\"\"\n",
    "\n",
    "'''а это\n",
    "многострочный\n",
    "комментарий, по сути строка'''\n",
    "\n",
    "\n",
    "print (a)"
   ]
  },
  {
   "cell_type": "code",
   "execution_count": 14,
   "metadata": {},
   "outputs": [
    {
     "name": "stdout",
     "output_type": "stream",
     "text": [
      "aaa\n",
      "baaa\n",
      "\n",
      "4\n"
     ]
    }
   ],
   "source": [
    "a = 'a'# операции со строками\n",
    "b = 'b'\n",
    "a = a*3\n",
    "print (a)\n",
    "b+=a\n",
    "print (b+\"\\n\")\n",
    "print (len(b))"
   ]
  },
  {
   "cell_type": "markdown",
   "metadata": {},
   "source": [
    "Строки сравниваются операторами > < >= <= == в лексикографическом порядке"
   ]
  },
  {
   "cell_type": "code",
   "execution_count": 15,
   "metadata": {},
   "outputs": [
    {
     "name": "stdout",
     "output_type": "stream",
     "text": [
      "2 4\n",
      "6\n"
     ]
    }
   ],
   "source": [
    "# считываем два числа\n",
    "a, b = (int(i) for i in input().split())\n",
    "print(a+b)"
   ]
  },
  {
   "cell_type": "code",
   "execution_count": 16,
   "metadata": {},
   "outputs": [
    {
     "name": "stdout",
     "output_type": "stream",
     "text": [
      "a\n",
      "f\n",
      "bcde\n",
      "defg\n",
      "ab\n",
      "bdf\n",
      "gfedcba\n"
     ]
    }
   ],
   "source": [
    "s = 'abcdefg' #обращение к элементам строки\n",
    "print(s[0])\n",
    "print(s[-2])\n",
    "print(s[1:5])\n",
    "print(s[3:])\n",
    "print(s[:2])\n",
    "print(s[1:-1:2])\n",
    "print(s[::-1])"
   ]
  },
  {
   "cell_type": "markdown",
   "metadata": {},
   "source": [
    "Строки неизменяемы. нельзя написать str[1] = 'j', будет ошибка"
   ]
  },
  {
   "cell_type": "code",
   "execution_count": 17,
   "metadata": {},
   "outputs": [
    {
     "name": "stdout",
     "output_type": "stream",
     "text": [
      "3\n",
      "ABCDABCAB\n",
      "0\n",
      "-1\n",
      "AcdAcA\n"
     ]
    }
   ],
   "source": [
    "# методы которые мы знаем\n",
    "s = 'abcdabcab'\n",
    "print(s.count(\"ab\")) # считаются неперекрывающиеся вхождения\n",
    "print(s.upper())# аналог lower\n",
    "print(s.find('ab')) # даёт индекс первого вхождения\n",
    "print(s.find('j')) # -1 значит не найдено\n",
    "# кстати if 'abc' in str сработает\n",
    "s2 = s.replace('ab', 'A')\n",
    "print(s2)"
   ]
  },
  {
   "cell_type": "markdown",
   "metadata": {},
   "source": [
    "**Логика**"
   ]
  },
  {
   "cell_type": "code",
   "execution_count": 18,
   "metadata": {},
   "outputs": [
    {
     "name": "stdout",
     "output_type": "stream",
     "text": [
      "False\n",
      "True\n",
      "False\n"
     ]
    }
   ],
   "source": [
    "x = True\n",
    "y = False\n",
    "print (x and y)\n",
    "print (x or y)\n",
    "print (not x)"
   ]
  },
  {
   "cell_type": "markdown",
   "metadata": {},
   "source": [
    "Приоритет сначала $not$, потом $and$, потом $or$"
   ]
  },
  {
   "cell_type": "code",
   "execution_count": 19,
   "metadata": {},
   "outputs": [
    {
     "data": {
      "text/plain": [
       "False"
      ]
     },
     "execution_count": 19,
     "metadata": {},
     "output_type": "execute_result"
    }
   ],
   "source": [
    "a = True\n",
    "b = False\n",
    "a and b or not a and not b"
   ]
  },
  {
   "cell_type": "markdown",
   "metadata": {},
   "source": [
    "**If-ы, циклы**"
   ]
  },
  {
   "cell_type": "code",
   "execution_count": 20,
   "metadata": {},
   "outputs": [
    {
     "name": "stdout",
     "output_type": "stream",
     "text": [
      "1\n",
      "2\n",
      "3\n",
      "много\n"
     ]
    }
   ],
   "source": [
    "a = int(input()) # суть задачи - надо чтоб h было между а и б \n",
    "b = int(input())\n",
    "h = int(input())\n",
    "if a > h:\n",
    "    print ('мало')\n",
    "elif b < h: # может быть только if и elif, или if и else, или только if\n",
    "    print ('много')\n",
    "else:\n",
    "    print ('нормально')"
   ]
  },
  {
   "cell_type": "code",
   "execution_count": 21,
   "metadata": {},
   "outputs": [
    {
     "name": "stdout",
     "output_type": "stream",
     "text": [
      "2\n",
      "3\n",
      "0\n",
      "5\n"
     ]
    }
   ],
   "source": [
    "s = 0 # суммируем числа пока не придет 0\n",
    "n = int(input())\n",
    "while n != 0:\n",
    "    s+=n\n",
    "    n = int(input())\n",
    "print(s)\n"
   ]
  },
  {
   "cell_type": "code",
   "execution_count": 22,
   "metadata": {},
   "outputs": [
    {
     "name": "stdout",
     "output_type": "stream",
     "text": [
      "2\n",
      "3\n",
      "5\n",
      "\n",
      "0\n",
      "1\n",
      "2\n",
      "3\n"
     ]
    }
   ],
   "source": [
    "for i in 2,3,5:\n",
    "    print(i)\n",
    "print('')\n",
    "for i in range(4):\n",
    "    print(i)"
   ]
  },
  {
   "cell_type": "markdown",
   "metadata": {},
   "source": [
    "*range* возвращает последовательность от start до to исключительно с шагом step. start по умолчанию 0, step 1.\n",
    "\n",
    "*range(start, to, step)*"
   ]
  },
  {
   "cell_type": "code",
   "execution_count": 23,
   "metadata": {},
   "outputs": [
    {
     "name": "stdout",
     "output_type": "stream",
     "text": [
      "b\n",
      "l\n",
      "a\n",
      "h\n"
     ]
    }
   ],
   "source": [
    "s = 'blah'\n",
    "for c in s:\n",
    "    print(c)"
   ]
  },
  {
   "cell_type": "markdown",
   "metadata": {},
   "source": [
    "**Списки**"
   ]
  },
  {
   "cell_type": "markdown",
   "metadata": {},
   "source": [
    "Списки - изменяемые объекты"
   ]
  },
  {
   "cell_type": "code",
   "execution_count": 64,
   "metadata": {},
   "outputs": [
    {
     "name": "stdout",
     "output_type": "stream",
     "text": [
      "3\n",
      "['ap', 4, 1.0]\n",
      "[5, 4, 1.0]\n",
      "[5, 4, 1.0, 3.4]\n",
      "[5, 'kek', 4, 1.0, 3.4]\n",
      "[5, 'kek', 4, 3.4]\n",
      "[5, 'kek', 4]\n",
      "\n",
      "[5, 7, 9, 1, 2, 3]\n",
      "[0, 1, 0, 1, 0, 1]\n",
      "[5, 7, 9, 6, 8]\n"
     ]
    }
   ],
   "source": [
    "lisst = [] # пустой список, создавать только так\n",
    "\n",
    "llist = ['ap', 4, 1.0] # разного типа объекты\n",
    "print(len(llist))\n",
    "print(llist)\n",
    "\n",
    "llist[0] = 5\n",
    "print(llist)\n",
    "\n",
    "llist.append(3.4) # добавление\n",
    "print(llist)\n",
    "\n",
    "llist.insert(1, 'kek')\n",
    "print(llist)\n",
    "\n",
    "llist.remove(1.0) # удаление. Удаляет только первое вхождение\n",
    "print(llist)\n",
    "\n",
    "del llist[3]\n",
    "print(llist)\n",
    "\n",
    "print()\n",
    "\n",
    "l1 = [5, 7, 9] # сложение работает, новый список пишется в конец\n",
    "l2 = [1, 2, 3]\n",
    "print(l1+l2)\n",
    "\n",
    "print([0, 1] * 3) # умножение тоже\n",
    "\n",
    "l1 += [6, 8]\n",
    "print(l1)"
   ]
  },
  {
   "cell_type": "code",
   "execution_count": 65,
   "metadata": {},
   "outputs": [
    {
     "name": "stdout",
     "output_type": "stream",
     "text": [
      "[5, 'kek', 4]\n",
      "[5, 7, 9, 6, 8]\n",
      "[5, 6, 7, 8, 9]\n",
      "9\n",
      "5\n"
     ]
    }
   ],
   "source": [
    "print(llist)\n",
    "print(l1)\n",
    "print(sorted(l1)) # сортировка НЕ меняет сам список\n",
    "l1.sort() # МЕНЯЕТ сам список\n",
    "\n",
    "#sorted(llist) выдало бы ошибку ибо int и str нельзя сравнивать\n",
    "\n",
    "print(max(l1))\n",
    "print(min(l1))\n",
    "\n",
    "# ещё есть llist.reverse() и reverse(llist) и один из них возвращает объект другого типа который еще\n",
    "# нужно привести к списку но мне очень лень и кому вообще этот метод нужен если есть [::-1]"
   ]
  },
  {
   "cell_type": "code",
   "execution_count": 54,
   "metadata": {},
   "outputs": [
    {
     "data": {
      "text/plain": [
       "['Ivan', 'Masha', 'Sasha', 'Olga', 'O', 'l', 'g', 'a']"
      ]
     },
     "execution_count": 54,
     "metadata": {},
     "output_type": "execute_result"
    }
   ],
   "source": [
    "students = ['Ivan', 'Masha', 'Sasha']\n",
    "students += ['Olga']\n",
    "students += 'Olga'\n",
    "students"
   ]
  },
  {
   "cell_type": "markdown",
   "metadata": {},
   "source": [
    "Так же как и в строках работает $llist[1:5:2]$ и подобное"
   ]
  },
  {
   "cell_type": "markdown",
   "metadata": {},
   "source": [
    "*ПРИСВОЕНИЕ СПИСКОВ*"
   ]
  },
  {
   "cell_type": "code",
   "execution_count": null,
   "metadata": {},
   "outputs": [],
   "source": []
  }
 ],
 "metadata": {
  "kernelspec": {
   "display_name": "Python 3",
   "language": "python",
   "name": "python3"
  },
  "language_info": {
   "codemirror_mode": {
    "name": "ipython",
    "version": 3
   },
   "file_extension": ".py",
   "mimetype": "text/x-python",
   "name": "python",
   "nbconvert_exporter": "python",
   "pygments_lexer": "ipython3",
   "version": "3.7.3"
  }
 },
 "nbformat": 4,
 "nbformat_minor": 2
}
